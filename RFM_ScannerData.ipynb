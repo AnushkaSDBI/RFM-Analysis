{
  "cells": [
    {
      "cell_type": "code",
      "execution_count": null,
      "id": "2b884886-9081-4a2b-9642-fc4ff7dc5d34",
      "metadata": {
        "id": "2b884886-9081-4a2b-9642-fc4ff7dc5d34"
      },
      "outputs": [],
      "source": [
        "import numpy as np\n",
        "import pandas as pd\n",
        "from sklearn.cluster import KMeans\n",
        "from scipy.spatial.distance import cdist\n",
        "import datetime as dt"
      ]
    },
    {
      "cell_type": "code",
      "execution_count": null,
      "id": "172635b3-a874-40f1-84fc-bdc1ace1218f",
      "metadata": {
        "id": "172635b3-a874-40f1-84fc-bdc1ace1218f"
      },
      "outputs": [],
      "source": [
        "df = pd.read_csv('scanner_data.csv')"
      ]
    },
    {
      "cell_type": "code",
      "execution_count": null,
      "id": "a4517276-186f-44da-badc-a34ad116f179",
      "metadata": {
        "id": "a4517276-186f-44da-badc-a34ad116f179",
        "outputId": "6e5577db-0e1d-4b41-a257-61b87199533b"
      },
      "outputs": [
        {
          "data": {
            "text/html": [
              "<div>\n",
              "<style scoped>\n",
              "    .dataframe tbody tr th:only-of-type {\n",
              "        vertical-align: middle;\n",
              "    }\n",
              "\n",
              "    .dataframe tbody tr th {\n",
              "        vertical-align: top;\n",
              "    }\n",
              "\n",
              "    .dataframe thead th {\n",
              "        text-align: right;\n",
              "    }\n",
              "</style>\n",
              "<table border=\"1\" class=\"dataframe\">\n",
              "  <thead>\n",
              "    <tr style=\"text-align: right;\">\n",
              "      <th></th>\n",
              "      <th>Unnamed: 0</th>\n",
              "      <th>Date</th>\n",
              "      <th>Customer_ID</th>\n",
              "      <th>Transaction_ID</th>\n",
              "      <th>SKU_Category</th>\n",
              "      <th>SKU</th>\n",
              "      <th>Quantity</th>\n",
              "      <th>Sales_Amount</th>\n",
              "    </tr>\n",
              "  </thead>\n",
              "  <tbody>\n",
              "    <tr>\n",
              "      <th>0</th>\n",
              "      <td>1</td>\n",
              "      <td>02/01/2016</td>\n",
              "      <td>2547</td>\n",
              "      <td>1</td>\n",
              "      <td>X52</td>\n",
              "      <td>0EM7L</td>\n",
              "      <td>1.0</td>\n",
              "      <td>3.13</td>\n",
              "    </tr>\n",
              "    <tr>\n",
              "      <th>1</th>\n",
              "      <td>2</td>\n",
              "      <td>02/01/2016</td>\n",
              "      <td>822</td>\n",
              "      <td>2</td>\n",
              "      <td>2ML</td>\n",
              "      <td>68BRQ</td>\n",
              "      <td>1.0</td>\n",
              "      <td>5.46</td>\n",
              "    </tr>\n",
              "    <tr>\n",
              "      <th>2</th>\n",
              "      <td>3</td>\n",
              "      <td>02/01/2016</td>\n",
              "      <td>3686</td>\n",
              "      <td>3</td>\n",
              "      <td>0H2</td>\n",
              "      <td>CZUZX</td>\n",
              "      <td>1.0</td>\n",
              "      <td>6.35</td>\n",
              "    </tr>\n",
              "    <tr>\n",
              "      <th>3</th>\n",
              "      <td>4</td>\n",
              "      <td>02/01/2016</td>\n",
              "      <td>3719</td>\n",
              "      <td>4</td>\n",
              "      <td>0H2</td>\n",
              "      <td>549KK</td>\n",
              "      <td>1.0</td>\n",
              "      <td>5.59</td>\n",
              "    </tr>\n",
              "    <tr>\n",
              "      <th>4</th>\n",
              "      <td>5</td>\n",
              "      <td>02/01/2016</td>\n",
              "      <td>9200</td>\n",
              "      <td>5</td>\n",
              "      <td>0H2</td>\n",
              "      <td>K8EHH</td>\n",
              "      <td>1.0</td>\n",
              "      <td>6.88</td>\n",
              "    </tr>\n",
              "  </tbody>\n",
              "</table>\n",
              "</div>"
            ],
            "text/plain": [
              "   Unnamed: 0        Date  Customer_ID  Transaction_ID SKU_Category    SKU  \\\n",
              "0           1  02/01/2016         2547               1          X52  0EM7L   \n",
              "1           2  02/01/2016          822               2          2ML  68BRQ   \n",
              "2           3  02/01/2016         3686               3          0H2  CZUZX   \n",
              "3           4  02/01/2016         3719               4          0H2  549KK   \n",
              "4           5  02/01/2016         9200               5          0H2  K8EHH   \n",
              "\n",
              "   Quantity  Sales_Amount  \n",
              "0       1.0          3.13  \n",
              "1       1.0          5.46  \n",
              "2       1.0          6.35  \n",
              "3       1.0          5.59  \n",
              "4       1.0          6.88  "
            ]
          },
          "execution_count": 3,
          "metadata": {},
          "output_type": "execute_result"
        }
      ],
      "source": [
        "df.head()"
      ]
    },
    {
      "cell_type": "code",
      "execution_count": null,
      "id": "bfe8502f-5b48-4fb4-a2a3-8ebe040b1d74",
      "metadata": {
        "id": "bfe8502f-5b48-4fb4-a2a3-8ebe040b1d74"
      },
      "outputs": [],
      "source": [
        "df.drop('Unnamed: 0',axis=1,inplace=True)"
      ]
    },
    {
      "cell_type": "code",
      "execution_count": null,
      "id": "434e17bc-c825-4b69-a58f-6cff9818bdbc",
      "metadata": {
        "id": "434e17bc-c825-4b69-a58f-6cff9818bdbc"
      },
      "outputs": [],
      "source": [
        "df['tot_amt'] = df['Quantity']*df['Sales_Amount']"
      ]
    },
    {
      "cell_type": "code",
      "execution_count": null,
      "id": "7ff31575-9686-434b-98aa-a793f215972d",
      "metadata": {
        "id": "7ff31575-9686-434b-98aa-a793f215972d",
        "outputId": "38f2f857-ba27-4331-bd9c-c8289463ff5c"
      },
      "outputs": [
        {
          "data": {
            "text/html": [
              "<div>\n",
              "<style scoped>\n",
              "    .dataframe tbody tr th:only-of-type {\n",
              "        vertical-align: middle;\n",
              "    }\n",
              "\n",
              "    .dataframe tbody tr th {\n",
              "        vertical-align: top;\n",
              "    }\n",
              "\n",
              "    .dataframe thead th {\n",
              "        text-align: right;\n",
              "    }\n",
              "</style>\n",
              "<table border=\"1\" class=\"dataframe\">\n",
              "  <thead>\n",
              "    <tr style=\"text-align: right;\">\n",
              "      <th></th>\n",
              "      <th>Date</th>\n",
              "      <th>Customer_ID</th>\n",
              "      <th>Transaction_ID</th>\n",
              "      <th>SKU_Category</th>\n",
              "      <th>SKU</th>\n",
              "      <th>Quantity</th>\n",
              "      <th>Sales_Amount</th>\n",
              "      <th>tot_amt</th>\n",
              "    </tr>\n",
              "  </thead>\n",
              "  <tbody>\n",
              "    <tr>\n",
              "      <th>0</th>\n",
              "      <td>02/01/2016</td>\n",
              "      <td>2547</td>\n",
              "      <td>1</td>\n",
              "      <td>X52</td>\n",
              "      <td>0EM7L</td>\n",
              "      <td>1.0</td>\n",
              "      <td>3.13</td>\n",
              "      <td>3.13</td>\n",
              "    </tr>\n",
              "    <tr>\n",
              "      <th>1</th>\n",
              "      <td>02/01/2016</td>\n",
              "      <td>822</td>\n",
              "      <td>2</td>\n",
              "      <td>2ML</td>\n",
              "      <td>68BRQ</td>\n",
              "      <td>1.0</td>\n",
              "      <td>5.46</td>\n",
              "      <td>5.46</td>\n",
              "    </tr>\n",
              "    <tr>\n",
              "      <th>2</th>\n",
              "      <td>02/01/2016</td>\n",
              "      <td>3686</td>\n",
              "      <td>3</td>\n",
              "      <td>0H2</td>\n",
              "      <td>CZUZX</td>\n",
              "      <td>1.0</td>\n",
              "      <td>6.35</td>\n",
              "      <td>6.35</td>\n",
              "    </tr>\n",
              "    <tr>\n",
              "      <th>3</th>\n",
              "      <td>02/01/2016</td>\n",
              "      <td>3719</td>\n",
              "      <td>4</td>\n",
              "      <td>0H2</td>\n",
              "      <td>549KK</td>\n",
              "      <td>1.0</td>\n",
              "      <td>5.59</td>\n",
              "      <td>5.59</td>\n",
              "    </tr>\n",
              "    <tr>\n",
              "      <th>4</th>\n",
              "      <td>02/01/2016</td>\n",
              "      <td>9200</td>\n",
              "      <td>5</td>\n",
              "      <td>0H2</td>\n",
              "      <td>K8EHH</td>\n",
              "      <td>1.0</td>\n",
              "      <td>6.88</td>\n",
              "      <td>6.88</td>\n",
              "    </tr>\n",
              "  </tbody>\n",
              "</table>\n",
              "</div>"
            ],
            "text/plain": [
              "         Date  Customer_ID  Transaction_ID SKU_Category    SKU  Quantity  \\\n",
              "0  02/01/2016         2547               1          X52  0EM7L       1.0   \n",
              "1  02/01/2016          822               2          2ML  68BRQ       1.0   \n",
              "2  02/01/2016         3686               3          0H2  CZUZX       1.0   \n",
              "3  02/01/2016         3719               4          0H2  549KK       1.0   \n",
              "4  02/01/2016         9200               5          0H2  K8EHH       1.0   \n",
              "\n",
              "   Sales_Amount  tot_amt  \n",
              "0          3.13     3.13  \n",
              "1          5.46     5.46  \n",
              "2          6.35     6.35  \n",
              "3          5.59     5.59  \n",
              "4          6.88     6.88  "
            ]
          },
          "execution_count": 6,
          "metadata": {},
          "output_type": "execute_result"
        }
      ],
      "source": [
        "df.head()"
      ]
    },
    {
      "cell_type": "code",
      "execution_count": null,
      "id": "c41371c9-fff1-4d3f-bfa9-ebf07fb5f131",
      "metadata": {
        "id": "c41371c9-fff1-4d3f-bfa9-ebf07fb5f131"
      },
      "outputs": [],
      "source": [
        "df['Date'] = pd.to_datetime(df['Date'])"
      ]
    },
    {
      "cell_type": "code",
      "execution_count": null,
      "id": "922ef903-1ab6-44a6-ac0a-522b0da7aa3c",
      "metadata": {
        "id": "922ef903-1ab6-44a6-ac0a-522b0da7aa3c",
        "outputId": "58574903-d06a-41b3-ea34-0a73bf68223a"
      },
      "outputs": [
        {
          "data": {
            "text/html": [
              "<div>\n",
              "<style scoped>\n",
              "    .dataframe tbody tr th:only-of-type {\n",
              "        vertical-align: middle;\n",
              "    }\n",
              "\n",
              "    .dataframe tbody tr th {\n",
              "        vertical-align: top;\n",
              "    }\n",
              "\n",
              "    .dataframe thead th {\n",
              "        text-align: right;\n",
              "    }\n",
              "</style>\n",
              "<table border=\"1\" class=\"dataframe\">\n",
              "  <thead>\n",
              "    <tr style=\"text-align: right;\">\n",
              "      <th></th>\n",
              "      <th>Date</th>\n",
              "      <th>Customer_ID</th>\n",
              "      <th>Transaction_ID</th>\n",
              "      <th>SKU_Category</th>\n",
              "      <th>SKU</th>\n",
              "      <th>Quantity</th>\n",
              "      <th>Sales_Amount</th>\n",
              "      <th>tot_amt</th>\n",
              "    </tr>\n",
              "  </thead>\n",
              "  <tbody>\n",
              "    <tr>\n",
              "      <th>0</th>\n",
              "      <td>2016-02-01</td>\n",
              "      <td>2547</td>\n",
              "      <td>1</td>\n",
              "      <td>X52</td>\n",
              "      <td>0EM7L</td>\n",
              "      <td>1.0</td>\n",
              "      <td>3.13</td>\n",
              "      <td>3.13</td>\n",
              "    </tr>\n",
              "    <tr>\n",
              "      <th>1</th>\n",
              "      <td>2016-02-01</td>\n",
              "      <td>822</td>\n",
              "      <td>2</td>\n",
              "      <td>2ML</td>\n",
              "      <td>68BRQ</td>\n",
              "      <td>1.0</td>\n",
              "      <td>5.46</td>\n",
              "      <td>5.46</td>\n",
              "    </tr>\n",
              "    <tr>\n",
              "      <th>2</th>\n",
              "      <td>2016-02-01</td>\n",
              "      <td>3686</td>\n",
              "      <td>3</td>\n",
              "      <td>0H2</td>\n",
              "      <td>CZUZX</td>\n",
              "      <td>1.0</td>\n",
              "      <td>6.35</td>\n",
              "      <td>6.35</td>\n",
              "    </tr>\n",
              "    <tr>\n",
              "      <th>3</th>\n",
              "      <td>2016-02-01</td>\n",
              "      <td>3719</td>\n",
              "      <td>4</td>\n",
              "      <td>0H2</td>\n",
              "      <td>549KK</td>\n",
              "      <td>1.0</td>\n",
              "      <td>5.59</td>\n",
              "      <td>5.59</td>\n",
              "    </tr>\n",
              "    <tr>\n",
              "      <th>4</th>\n",
              "      <td>2016-02-01</td>\n",
              "      <td>9200</td>\n",
              "      <td>5</td>\n",
              "      <td>0H2</td>\n",
              "      <td>K8EHH</td>\n",
              "      <td>1.0</td>\n",
              "      <td>6.88</td>\n",
              "      <td>6.88</td>\n",
              "    </tr>\n",
              "  </tbody>\n",
              "</table>\n",
              "</div>"
            ],
            "text/plain": [
              "        Date  Customer_ID  Transaction_ID SKU_Category    SKU  Quantity  \\\n",
              "0 2016-02-01         2547               1          X52  0EM7L       1.0   \n",
              "1 2016-02-01          822               2          2ML  68BRQ       1.0   \n",
              "2 2016-02-01         3686               3          0H2  CZUZX       1.0   \n",
              "3 2016-02-01         3719               4          0H2  549KK       1.0   \n",
              "4 2016-02-01         9200               5          0H2  K8EHH       1.0   \n",
              "\n",
              "   Sales_Amount  tot_amt  \n",
              "0          3.13     3.13  \n",
              "1          5.46     5.46  \n",
              "2          6.35     6.35  \n",
              "3          5.59     5.59  \n",
              "4          6.88     6.88  "
            ]
          },
          "execution_count": 8,
          "metadata": {},
          "output_type": "execute_result"
        }
      ],
      "source": [
        "df.head()"
      ]
    },
    {
      "cell_type": "code",
      "execution_count": null,
      "id": "05bc1881-17ed-451c-82d1-96e925a2388d",
      "metadata": {
        "id": "05bc1881-17ed-451c-82d1-96e925a2388d"
      },
      "outputs": [],
      "source": [
        "last_txn_date = df['Date'].max()"
      ]
    },
    {
      "cell_type": "code",
      "execution_count": null,
      "id": "917467af-f989-4242-b61a-19f908b9a94f",
      "metadata": {
        "id": "917467af-f989-4242-b61a-19f908b9a94f",
        "outputId": "b36e7d36-45e0-4d09-9865-03482c2cae60"
      },
      "outputs": [
        {
          "data": {
            "text/plain": [
              "Timestamp('2016-12-31 00:00:00')"
            ]
          },
          "execution_count": 10,
          "metadata": {},
          "output_type": "execute_result"
        }
      ],
      "source": [
        "last_txn_date"
      ]
    },
    {
      "cell_type": "code",
      "execution_count": null,
      "id": "601873bd-b7bd-4bf5-935d-7d5c1d701d04",
      "metadata": {
        "id": "601873bd-b7bd-4bf5-935d-7d5c1d701d04"
      },
      "outputs": [],
      "source": [
        "last_txn = df.groupby('Customer_ID')['Date'].max()"
      ]
    },
    {
      "cell_type": "code",
      "execution_count": null,
      "id": "47fed32b-d003-47b4-b732-e8e6285e7c75",
      "metadata": {
        "id": "47fed32b-d003-47b4-b732-e8e6285e7c75",
        "outputId": "702f1bac-59b7-4ef4-9fa5-6f2b48c932d5"
      },
      "outputs": [
        {
          "data": {
            "text/plain": [
              "Customer_ID\n",
              "1       2016-01-22\n",
              "2       2016-06-19\n",
              "3       2016-02-01\n",
              "4       2016-11-07\n",
              "5       2016-09-02\n",
              "           ...    \n",
              "22621   2016-10-12\n",
              "22622   2016-12-16\n",
              "22623   2016-12-21\n",
              "22624   2016-02-12\n",
              "22625   2016-12-31\n",
              "Name: Date, Length: 22625, dtype: datetime64[ns]"
            ]
          },
          "execution_count": 12,
          "metadata": {},
          "output_type": "execute_result"
        }
      ],
      "source": [
        "last_txn"
      ]
    },
    {
      "cell_type": "code",
      "execution_count": null,
      "id": "fa2f1deb-6eea-4e9b-93a3-095db3deb815",
      "metadata": {
        "id": "fa2f1deb-6eea-4e9b-93a3-095db3deb815"
      },
      "outputs": [],
      "source": [
        "last_txn = pd.to_datetime(last_txn.values)"
      ]
    },
    {
      "cell_type": "code",
      "execution_count": null,
      "id": "1faa49be-cda4-4320-a5eb-5f84eadd3276",
      "metadata": {
        "id": "1faa49be-cda4-4320-a5eb-5f84eadd3276",
        "outputId": "71951abc-05cf-4d2d-81f8-18a07afa5a86"
      },
      "outputs": [
        {
          "data": {
            "text/plain": [
              "DatetimeIndex(['2016-01-22', '2016-06-19', '2016-02-01', '2016-11-07',\n",
              "               '2016-09-02', '2016-03-31', '2016-05-10', '2016-06-21',\n",
              "               '2016-03-20', '2016-12-02',\n",
              "               ...\n",
              "               '2016-10-26', '2016-12-12', '2016-11-21', '2016-04-12',\n",
              "               '2016-01-11', '2016-10-12', '2016-12-16', '2016-12-21',\n",
              "               '2016-02-12', '2016-12-31'],\n",
              "              dtype='datetime64[ns]', length=22625, freq=None)"
            ]
          },
          "execution_count": 14,
          "metadata": {},
          "output_type": "execute_result"
        }
      ],
      "source": [
        "last_txn"
      ]
    },
    {
      "cell_type": "code",
      "execution_count": null,
      "id": "75a54139-ce95-4367-b72c-146716511609",
      "metadata": {
        "id": "75a54139-ce95-4367-b72c-146716511609"
      },
      "outputs": [],
      "source": [
        "recency= (last_txn_date-last_txn).days"
      ]
    },
    {
      "cell_type": "code",
      "execution_count": null,
      "id": "bafe1d72-e0d8-457d-95a9-a951b98b48b7",
      "metadata": {
        "id": "bafe1d72-e0d8-457d-95a9-a951b98b48b7",
        "outputId": "a83dc217-4f94-4c35-cb68-b3baf0dda23d"
      },
      "outputs": [
        {
          "data": {
            "text/plain": [
              "Int64Index([344, 195, 334,  54, 120, 275, 235, 193, 286,  29,\n",
              "            ...\n",
              "             66,  19,  40, 263, 355,  80,  15,  10, 323,   0],\n",
              "           dtype='int64', length=22625)"
            ]
          },
          "execution_count": 16,
          "metadata": {},
          "output_type": "execute_result"
        }
      ],
      "source": [
        "recency"
      ]
    },
    {
      "cell_type": "code",
      "execution_count": null,
      "id": "5ee6cae3-2ced-4007-84ea-ce0dd7ee9285",
      "metadata": {
        "id": "5ee6cae3-2ced-4007-84ea-ce0dd7ee9285"
      },
      "outputs": [],
      "source": [
        "frq_group = df.groupby('Customer_ID')['Transaction_ID'].count()"
      ]
    },
    {
      "cell_type": "code",
      "execution_count": null,
      "id": "bae2d599-4bc8-4077-a9a3-7f3927a91d35",
      "metadata": {
        "id": "bae2d599-4bc8-4077-a9a3-7f3927a91d35",
        "outputId": "ba074916-e9a2-4bf3-dd83-9f9da7e1b183"
      },
      "outputs": [
        {
          "data": {
            "text/plain": [
              "Customer_ID\n",
              "1        2\n",
              "2        2\n",
              "3        3\n",
              "4        5\n",
              "5        5\n",
              "        ..\n",
              "22621    2\n",
              "22622    1\n",
              "22623    2\n",
              "22624    2\n",
              "22625    9\n",
              "Name: Transaction_ID, Length: 22625, dtype: int64"
            ]
          },
          "execution_count": 18,
          "metadata": {},
          "output_type": "execute_result"
        }
      ],
      "source": [
        "frq_group"
      ]
    },
    {
      "cell_type": "code",
      "execution_count": null,
      "id": "82ceae0b-9563-463c-baa1-749cbdb24a32",
      "metadata": {
        "id": "82ceae0b-9563-463c-baa1-749cbdb24a32"
      },
      "outputs": [],
      "source": [
        "total_sales = df.groupby('Customer_ID')['tot_amt'].sum()"
      ]
    },
    {
      "cell_type": "code",
      "execution_count": null,
      "id": "cd7d8cfe-8373-42d3-972f-0ed67eafd912",
      "metadata": {
        "id": "cd7d8cfe-8373-42d3-972f-0ed67eafd912",
        "outputId": "4d954171-a25f-4a4c-f1bc-ab61db15dd53"
      },
      "outputs": [
        {
          "data": {
            "text/plain": [
              "Customer_ID\n",
              "1         16.29\n",
              "2         22.77\n",
              "3         19.08\n",
              "4         33.29\n",
              "5        248.27\n",
              "          ...  \n",
              "22621     17.19\n",
              "22622      6.07\n",
              "22623    225.87\n",
              "22624     19.60\n",
              "22625     89.08\n",
              "Name: tot_amt, Length: 22625, dtype: float64"
            ]
          },
          "execution_count": 20,
          "metadata": {},
          "output_type": "execute_result"
        }
      ],
      "source": [
        "total_sales"
      ]
    },
    {
      "cell_type": "code",
      "execution_count": null,
      "id": "47d0fac9-d7c8-4fce-b9ca-dab93dad9fd7",
      "metadata": {
        "id": "47d0fac9-d7c8-4fce-b9ca-dab93dad9fd7"
      },
      "outputs": [],
      "source": [
        "df_rfm = pd.DataFrame(list(zip(recency,frq_group,total_sales)),columns=['Recency','Frequency','Monetary'])"
      ]
    },
    {
      "cell_type": "code",
      "execution_count": null,
      "id": "bdbbe98a-d3a2-470f-981f-5f085d4e7368",
      "metadata": {
        "id": "bdbbe98a-d3a2-470f-981f-5f085d4e7368",
        "outputId": "90858d9a-fa1d-4fd7-ec51-0dd8a6226c01"
      },
      "outputs": [
        {
          "data": {
            "text/html": [
              "<div>\n",
              "<style scoped>\n",
              "    .dataframe tbody tr th:only-of-type {\n",
              "        vertical-align: middle;\n",
              "    }\n",
              "\n",
              "    .dataframe tbody tr th {\n",
              "        vertical-align: top;\n",
              "    }\n",
              "\n",
              "    .dataframe thead th {\n",
              "        text-align: right;\n",
              "    }\n",
              "</style>\n",
              "<table border=\"1\" class=\"dataframe\">\n",
              "  <thead>\n",
              "    <tr style=\"text-align: right;\">\n",
              "      <th></th>\n",
              "      <th>Recency</th>\n",
              "      <th>Frequency</th>\n",
              "      <th>Monetary</th>\n",
              "    </tr>\n",
              "  </thead>\n",
              "  <tbody>\n",
              "    <tr>\n",
              "      <th>0</th>\n",
              "      <td>344</td>\n",
              "      <td>2</td>\n",
              "      <td>16.29</td>\n",
              "    </tr>\n",
              "    <tr>\n",
              "      <th>1</th>\n",
              "      <td>195</td>\n",
              "      <td>2</td>\n",
              "      <td>22.77</td>\n",
              "    </tr>\n",
              "    <tr>\n",
              "      <th>2</th>\n",
              "      <td>334</td>\n",
              "      <td>3</td>\n",
              "      <td>19.08</td>\n",
              "    </tr>\n",
              "    <tr>\n",
              "      <th>3</th>\n",
              "      <td>54</td>\n",
              "      <td>5</td>\n",
              "      <td>33.29</td>\n",
              "    </tr>\n",
              "    <tr>\n",
              "      <th>4</th>\n",
              "      <td>120</td>\n",
              "      <td>5</td>\n",
              "      <td>248.27</td>\n",
              "    </tr>\n",
              "    <tr>\n",
              "      <th>...</th>\n",
              "      <td>...</td>\n",
              "      <td>...</td>\n",
              "      <td>...</td>\n",
              "    </tr>\n",
              "    <tr>\n",
              "      <th>22620</th>\n",
              "      <td>80</td>\n",
              "      <td>2</td>\n",
              "      <td>17.19</td>\n",
              "    </tr>\n",
              "    <tr>\n",
              "      <th>22621</th>\n",
              "      <td>15</td>\n",
              "      <td>1</td>\n",
              "      <td>6.07</td>\n",
              "    </tr>\n",
              "    <tr>\n",
              "      <th>22622</th>\n",
              "      <td>10</td>\n",
              "      <td>2</td>\n",
              "      <td>225.87</td>\n",
              "    </tr>\n",
              "    <tr>\n",
              "      <th>22623</th>\n",
              "      <td>323</td>\n",
              "      <td>2</td>\n",
              "      <td>19.60</td>\n",
              "    </tr>\n",
              "    <tr>\n",
              "      <th>22624</th>\n",
              "      <td>0</td>\n",
              "      <td>9</td>\n",
              "      <td>89.08</td>\n",
              "    </tr>\n",
              "  </tbody>\n",
              "</table>\n",
              "<p>22625 rows × 3 columns</p>\n",
              "</div>"
            ],
            "text/plain": [
              "       Recency  Frequency  Monetary\n",
              "0          344          2     16.29\n",
              "1          195          2     22.77\n",
              "2          334          3     19.08\n",
              "3           54          5     33.29\n",
              "4          120          5    248.27\n",
              "...        ...        ...       ...\n",
              "22620       80          2     17.19\n",
              "22621       15          1      6.07\n",
              "22622       10          2    225.87\n",
              "22623      323          2     19.60\n",
              "22624        0          9     89.08\n",
              "\n",
              "[22625 rows x 3 columns]"
            ]
          },
          "execution_count": 22,
          "metadata": {},
          "output_type": "execute_result"
        }
      ],
      "source": [
        "df_rfm"
      ]
    },
    {
      "cell_type": "markdown",
      "id": "57eba948-4a73-40cb-89e6-787bf4ea598e",
      "metadata": {
        "id": "57eba948-4a73-40cb-89e6-787bf4ea598e"
      },
      "source": [
        "#### Calculating RFM score"
      ]
    },
    {
      "cell_type": "markdown",
      "id": "7f33c3c1-db60-415c-9815-e2a815384553",
      "metadata": {
        "id": "7f33c3c1-db60-415c-9815-e2a815384553"
      },
      "source": [
        "1 - Not Good<br>\n",
        "5 - Good"
      ]
    },
    {
      "cell_type": "code",
      "execution_count": null,
      "id": "ad159efa-6e54-451b-8b77-1e13697b69aa",
      "metadata": {
        "id": "ad159efa-6e54-451b-8b77-1e13697b69aa",
        "outputId": "bfa08f58-2c38-4f81-b2bf-776eb37a700c"
      },
      "outputs": [
        {
          "data": {
            "text/plain": [
              "count    22625.000000\n",
              "mean       144.408796\n",
              "std        109.263227\n",
              "min          0.000000\n",
              "25%         44.000000\n",
              "50%        120.000000\n",
              "75%        242.000000\n",
              "max        364.000000\n",
              "Name: Recency, dtype: float64"
            ]
          },
          "execution_count": 23,
          "metadata": {},
          "output_type": "execute_result"
        }
      ],
      "source": [
        "df_rfm['Recency'].describe()"
      ]
    },
    {
      "cell_type": "code",
      "execution_count": null,
      "id": "14c8df65-7736-46a7-b0c9-1eae509e1582",
      "metadata": {
        "id": "14c8df65-7736-46a7-b0c9-1eae509e1582"
      },
      "outputs": [],
      "source": [
        "df_rfm_score = pd.DataFrame(columns=['Customer_ID','Recency','Frequency','Monetary'])"
      ]
    },
    {
      "cell_type": "code",
      "execution_count": null,
      "id": "d7f28adb-f802-4b40-9235-bbb5145d6e5f",
      "metadata": {
        "id": "d7f28adb-f802-4b40-9235-bbb5145d6e5f"
      },
      "outputs": [],
      "source": [
        "r_bins = [-np.Inf,0,44,120,242,np.Inf]\n",
        "r_labels = ['5','4','3','2','1']\n",
        "df_rfm_score.Recency = pd.cut(df_rfm['Recency'],bins=r_bins,labels=r_labels)"
      ]
    },
    {
      "cell_type": "code",
      "execution_count": null,
      "id": "ee8eb5f9-eef0-4f53-8f6c-4221e6ce6df5",
      "metadata": {
        "id": "ee8eb5f9-eef0-4f53-8f6c-4221e6ce6df5",
        "outputId": "aeb8d35a-4af4-48f6-809a-e49cd20e647f"
      },
      "outputs": [
        {
          "data": {
            "text/html": [
              "<div>\n",
              "<style scoped>\n",
              "    .dataframe tbody tr th:only-of-type {\n",
              "        vertical-align: middle;\n",
              "    }\n",
              "\n",
              "    .dataframe tbody tr th {\n",
              "        vertical-align: top;\n",
              "    }\n",
              "\n",
              "    .dataframe thead th {\n",
              "        text-align: right;\n",
              "    }\n",
              "</style>\n",
              "<table border=\"1\" class=\"dataframe\">\n",
              "  <thead>\n",
              "    <tr style=\"text-align: right;\">\n",
              "      <th></th>\n",
              "      <th>Customer_ID</th>\n",
              "      <th>Recency</th>\n",
              "      <th>Frequency</th>\n",
              "      <th>Monetary</th>\n",
              "    </tr>\n",
              "  </thead>\n",
              "  <tbody>\n",
              "    <tr>\n",
              "      <th>0</th>\n",
              "      <td>NaN</td>\n",
              "      <td>1</td>\n",
              "      <td>NaN</td>\n",
              "      <td>NaN</td>\n",
              "    </tr>\n",
              "    <tr>\n",
              "      <th>1</th>\n",
              "      <td>NaN</td>\n",
              "      <td>2</td>\n",
              "      <td>NaN</td>\n",
              "      <td>NaN</td>\n",
              "    </tr>\n",
              "    <tr>\n",
              "      <th>2</th>\n",
              "      <td>NaN</td>\n",
              "      <td>1</td>\n",
              "      <td>NaN</td>\n",
              "      <td>NaN</td>\n",
              "    </tr>\n",
              "    <tr>\n",
              "      <th>3</th>\n",
              "      <td>NaN</td>\n",
              "      <td>3</td>\n",
              "      <td>NaN</td>\n",
              "      <td>NaN</td>\n",
              "    </tr>\n",
              "    <tr>\n",
              "      <th>4</th>\n",
              "      <td>NaN</td>\n",
              "      <td>3</td>\n",
              "      <td>NaN</td>\n",
              "      <td>NaN</td>\n",
              "    </tr>\n",
              "  </tbody>\n",
              "</table>\n",
              "</div>"
            ],
            "text/plain": [
              "  Customer_ID Recency Frequency Monetary\n",
              "0         NaN       1       NaN      NaN\n",
              "1         NaN       2       NaN      NaN\n",
              "2         NaN       1       NaN      NaN\n",
              "3         NaN       3       NaN      NaN\n",
              "4         NaN       3       NaN      NaN"
            ]
          },
          "execution_count": 26,
          "metadata": {},
          "output_type": "execute_result"
        }
      ],
      "source": [
        "df_rfm_score.head()"
      ]
    },
    {
      "cell_type": "code",
      "execution_count": null,
      "id": "f4a85ec8-7dcf-4e45-b0b4-0ea135e8b08e",
      "metadata": {
        "id": "f4a85ec8-7dcf-4e45-b0b4-0ea135e8b08e",
        "outputId": "0ee09ea2-4c45-48ff-df4d-1ce466e9bf14"
      },
      "outputs": [
        {
          "data": {
            "text/plain": [
              "count    22625.000000\n",
              "mean         5.821260\n",
              "std          9.887028\n",
              "min          1.000000\n",
              "25%          1.000000\n",
              "50%          3.000000\n",
              "75%          6.000000\n",
              "max        228.000000\n",
              "Name: Frequency, dtype: float64"
            ]
          },
          "execution_count": 27,
          "metadata": {},
          "output_type": "execute_result"
        }
      ],
      "source": [
        "df_rfm.Frequency.describe()"
      ]
    },
    {
      "cell_type": "code",
      "execution_count": null,
      "id": "5faed1f1-d421-4796-a904-e3e36c8c984b",
      "metadata": {
        "id": "5faed1f1-d421-4796-a904-e3e36c8c984b"
      },
      "outputs": [],
      "source": [
        "f_bins = [-np.Inf,0,1,3,6,np.Inf]\n",
        "f_labels = ['1','2','3','4','5']\n",
        "df_rfm_score.Frequency = pd.cut(df_rfm.Frequency,bins=f_bins,labels=f_labels)"
      ]
    },
    {
      "cell_type": "code",
      "execution_count": null,
      "id": "53ac2147-61de-4ae0-ba22-9957755bee32",
      "metadata": {
        "id": "53ac2147-61de-4ae0-ba22-9957755bee32",
        "outputId": "83f78e98-8bee-4664-f5bf-9e2736e7fd64"
      },
      "outputs": [
        {
          "data": {
            "text/html": [
              "<div>\n",
              "<style scoped>\n",
              "    .dataframe tbody tr th:only-of-type {\n",
              "        vertical-align: middle;\n",
              "    }\n",
              "\n",
              "    .dataframe tbody tr th {\n",
              "        vertical-align: top;\n",
              "    }\n",
              "\n",
              "    .dataframe thead th {\n",
              "        text-align: right;\n",
              "    }\n",
              "</style>\n",
              "<table border=\"1\" class=\"dataframe\">\n",
              "  <thead>\n",
              "    <tr style=\"text-align: right;\">\n",
              "      <th></th>\n",
              "      <th>Customer_ID</th>\n",
              "      <th>Recency</th>\n",
              "      <th>Frequency</th>\n",
              "      <th>Monetary</th>\n",
              "    </tr>\n",
              "  </thead>\n",
              "  <tbody>\n",
              "    <tr>\n",
              "      <th>0</th>\n",
              "      <td>NaN</td>\n",
              "      <td>1</td>\n",
              "      <td>3</td>\n",
              "      <td>NaN</td>\n",
              "    </tr>\n",
              "    <tr>\n",
              "      <th>1</th>\n",
              "      <td>NaN</td>\n",
              "      <td>2</td>\n",
              "      <td>3</td>\n",
              "      <td>NaN</td>\n",
              "    </tr>\n",
              "    <tr>\n",
              "      <th>2</th>\n",
              "      <td>NaN</td>\n",
              "      <td>1</td>\n",
              "      <td>3</td>\n",
              "      <td>NaN</td>\n",
              "    </tr>\n",
              "    <tr>\n",
              "      <th>3</th>\n",
              "      <td>NaN</td>\n",
              "      <td>3</td>\n",
              "      <td>4</td>\n",
              "      <td>NaN</td>\n",
              "    </tr>\n",
              "    <tr>\n",
              "      <th>4</th>\n",
              "      <td>NaN</td>\n",
              "      <td>3</td>\n",
              "      <td>4</td>\n",
              "      <td>NaN</td>\n",
              "    </tr>\n",
              "  </tbody>\n",
              "</table>\n",
              "</div>"
            ],
            "text/plain": [
              "  Customer_ID Recency Frequency Monetary\n",
              "0         NaN       1         3      NaN\n",
              "1         NaN       2         3      NaN\n",
              "2         NaN       1         3      NaN\n",
              "3         NaN       3         4      NaN\n",
              "4         NaN       3         4      NaN"
            ]
          },
          "execution_count": 29,
          "metadata": {},
          "output_type": "execute_result"
        }
      ],
      "source": [
        "df_rfm_score.head()"
      ]
    },
    {
      "cell_type": "code",
      "execution_count": null,
      "id": "c29984b6-d2cd-4767-93e2-866fc99ac2aa",
      "metadata": {
        "id": "c29984b6-d2cd-4767-93e2-866fc99ac2aa",
        "outputId": "2cc74743-1908-4e9d-cd33-6fd3a459dda4"
      },
      "outputs": [
        {
          "data": {
            "text/plain": [
              "count    22625.000000\n",
              "mean       122.011461\n",
              "std        482.101388\n",
              "min          0.140000\n",
              "25%         10.810000\n",
              "50%         27.260000\n",
              "75%         83.080000\n",
              "max      40070.491000\n",
              "Name: Monetary, dtype: float64"
            ]
          },
          "execution_count": 30,
          "metadata": {},
          "output_type": "execute_result"
        }
      ],
      "source": [
        "df_rfm.Monetary.describe()"
      ]
    },
    {
      "cell_type": "code",
      "execution_count": null,
      "id": "50255825-a911-4f61-b14e-325857d02de1",
      "metadata": {
        "id": "50255825-a911-4f61-b14e-325857d02de1"
      },
      "outputs": [],
      "source": [
        "m_bins = [-np.Inf,0,10,27,83,np.Inf]\n",
        "m_labels = ['1','2','3','4','5']\n",
        "df_rfm_score.Monetary = pd.cut(df_rfm.Monetary,bins=m_bins,labels=m_labels)"
      ]
    },
    {
      "cell_type": "code",
      "execution_count": null,
      "id": "049fb4bc-e3de-46a9-8beb-407bb74f55e6",
      "metadata": {
        "id": "049fb4bc-e3de-46a9-8beb-407bb74f55e6",
        "outputId": "3f5da39f-b8dc-4a4d-cbd2-3903f7a34810"
      },
      "outputs": [
        {
          "data": {
            "text/html": [
              "<div>\n",
              "<style scoped>\n",
              "    .dataframe tbody tr th:only-of-type {\n",
              "        vertical-align: middle;\n",
              "    }\n",
              "\n",
              "    .dataframe tbody tr th {\n",
              "        vertical-align: top;\n",
              "    }\n",
              "\n",
              "    .dataframe thead th {\n",
              "        text-align: right;\n",
              "    }\n",
              "</style>\n",
              "<table border=\"1\" class=\"dataframe\">\n",
              "  <thead>\n",
              "    <tr style=\"text-align: right;\">\n",
              "      <th></th>\n",
              "      <th>Customer_ID</th>\n",
              "      <th>Recency</th>\n",
              "      <th>Frequency</th>\n",
              "      <th>Monetary</th>\n",
              "    </tr>\n",
              "  </thead>\n",
              "  <tbody>\n",
              "    <tr>\n",
              "      <th>0</th>\n",
              "      <td>NaN</td>\n",
              "      <td>1</td>\n",
              "      <td>3</td>\n",
              "      <td>3</td>\n",
              "    </tr>\n",
              "    <tr>\n",
              "      <th>1</th>\n",
              "      <td>NaN</td>\n",
              "      <td>2</td>\n",
              "      <td>3</td>\n",
              "      <td>3</td>\n",
              "    </tr>\n",
              "    <tr>\n",
              "      <th>2</th>\n",
              "      <td>NaN</td>\n",
              "      <td>1</td>\n",
              "      <td>3</td>\n",
              "      <td>3</td>\n",
              "    </tr>\n",
              "    <tr>\n",
              "      <th>3</th>\n",
              "      <td>NaN</td>\n",
              "      <td>3</td>\n",
              "      <td>4</td>\n",
              "      <td>4</td>\n",
              "    </tr>\n",
              "    <tr>\n",
              "      <th>4</th>\n",
              "      <td>NaN</td>\n",
              "      <td>3</td>\n",
              "      <td>4</td>\n",
              "      <td>5</td>\n",
              "    </tr>\n",
              "  </tbody>\n",
              "</table>\n",
              "</div>"
            ],
            "text/plain": [
              "  Customer_ID Recency Frequency Monetary\n",
              "0         NaN       1         3        3\n",
              "1         NaN       2         3        3\n",
              "2         NaN       1         3        3\n",
              "3         NaN       3         4        4\n",
              "4         NaN       3         4        5"
            ]
          },
          "execution_count": 32,
          "metadata": {},
          "output_type": "execute_result"
        }
      ],
      "source": [
        "df_rfm_score.head()"
      ]
    },
    {
      "cell_type": "code",
      "execution_count": null,
      "id": "472282b9-ca2b-407a-bf9b-60e5c9b058b5",
      "metadata": {
        "id": "472282b9-ca2b-407a-bf9b-60e5c9b058b5"
      },
      "outputs": [],
      "source": [
        "df_rfm_score.Customer_ID = paisa.index"
      ]
    },
    {
      "cell_type": "code",
      "execution_count": null,
      "id": "633d88a5-1726-43fb-9529-f41fc6d6ac92",
      "metadata": {
        "id": "633d88a5-1726-43fb-9529-f41fc6d6ac92",
        "outputId": "b6c8672b-037b-4cea-dbd7-efda217c3614"
      },
      "outputs": [
        {
          "data": {
            "text/html": [
              "<div>\n",
              "<style scoped>\n",
              "    .dataframe tbody tr th:only-of-type {\n",
              "        vertical-align: middle;\n",
              "    }\n",
              "\n",
              "    .dataframe tbody tr th {\n",
              "        vertical-align: top;\n",
              "    }\n",
              "\n",
              "    .dataframe thead th {\n",
              "        text-align: right;\n",
              "    }\n",
              "</style>\n",
              "<table border=\"1\" class=\"dataframe\">\n",
              "  <thead>\n",
              "    <tr style=\"text-align: right;\">\n",
              "      <th></th>\n",
              "      <th>Customer_ID</th>\n",
              "      <th>Recency</th>\n",
              "      <th>Frequency</th>\n",
              "      <th>Monetary</th>\n",
              "    </tr>\n",
              "  </thead>\n",
              "  <tbody>\n",
              "    <tr>\n",
              "      <th>0</th>\n",
              "      <td>1</td>\n",
              "      <td>1</td>\n",
              "      <td>3</td>\n",
              "      <td>3</td>\n",
              "    </tr>\n",
              "    <tr>\n",
              "      <th>1</th>\n",
              "      <td>2</td>\n",
              "      <td>2</td>\n",
              "      <td>3</td>\n",
              "      <td>3</td>\n",
              "    </tr>\n",
              "    <tr>\n",
              "      <th>2</th>\n",
              "      <td>3</td>\n",
              "      <td>1</td>\n",
              "      <td>3</td>\n",
              "      <td>3</td>\n",
              "    </tr>\n",
              "    <tr>\n",
              "      <th>3</th>\n",
              "      <td>4</td>\n",
              "      <td>3</td>\n",
              "      <td>4</td>\n",
              "      <td>4</td>\n",
              "    </tr>\n",
              "    <tr>\n",
              "      <th>4</th>\n",
              "      <td>5</td>\n",
              "      <td>3</td>\n",
              "      <td>4</td>\n",
              "      <td>5</td>\n",
              "    </tr>\n",
              "  </tbody>\n",
              "</table>\n",
              "</div>"
            ],
            "text/plain": [
              "   Customer_ID Recency Frequency Monetary\n",
              "0            1       1         3        3\n",
              "1            2       2         3        3\n",
              "2            3       1         3        3\n",
              "3            4       3         4        4\n",
              "4            5       3         4        5"
            ]
          },
          "execution_count": 34,
          "metadata": {},
          "output_type": "execute_result"
        }
      ],
      "source": [
        "df_rfm_score.head()"
      ]
    },
    {
      "cell_type": "code",
      "execution_count": null,
      "id": "9e5ef037-1384-41b7-831e-678236661056",
      "metadata": {
        "id": "9e5ef037-1384-41b7-831e-678236661056",
        "outputId": "9c568ba3-2442-404b-9317-64ab827a7eaa"
      },
      "outputs": [
        {
          "data": {
            "text/plain": [
              "(22625, 4)"
            ]
          },
          "execution_count": 35,
          "metadata": {},
          "output_type": "execute_result"
        }
      ],
      "source": [
        "df_rfm_score.shape"
      ]
    }
  ],
  "metadata": {
    "kernelspec": {
      "display_name": "Python 3 (ipykernel)",
      "language": "python",
      "name": "python3"
    },
    "language_info": {
      "codemirror_mode": {
        "name": "ipython",
        "version": 3
      },
      "file_extension": ".py",
      "mimetype": "text/x-python",
      "name": "python",
      "nbconvert_exporter": "python",
      "pygments_lexer": "ipython3",
      "version": "3.10.1"
    },
    "colab": {
      "name": "RFM_ScannerData.ipynb",
      "provenance": [],
      "collapsed_sections": []
    }
  },
  "nbformat": 4,
  "nbformat_minor": 5
}